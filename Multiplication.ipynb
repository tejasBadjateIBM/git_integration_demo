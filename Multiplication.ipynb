{
 "cells": [
  {
   "cell_type": "code",
   "execution_count": 1,
   "id": "efc43ef3-7a0c-42d7-b291-4e13ee14a24a",
   "metadata": {
    "id": "3f1c7603-8349-41ff-a477-df1704228760",
    "tags": []
   },
   "outputs": [
    {
     "name": "stdout",
     "output_type": "stream",
     "text": [
      "Multiplication of 3*5 : 15\n"
     ]
    }
   ],
   "source": [
    "print(\"Multiplication of 3*5 :\", 3*5)"
   ]
  },
  {
   "cell_type": "code",
   "execution_count": null,
   "id": "462f5146-cf2a-452c-a57f-dc9e1b54cbb3",
   "metadata": {
    "id": "462f5146-cf2a-452c-a57f-dc9e1b54cbb3"
   },
   "outputs": [],
   "source": []
  }
 ],
 "metadata": {
  "kernelspec": {
   "display_name": "Python 3.10",
   "language": "python",
   "name": "python3"
  },
  "language_info": {
   "codemirror_mode": {
    "name": "ipython",
    "version": 3
   },
   "file_extension": ".py",
   "mimetype": "text/x-python",
   "name": "python",
   "nbconvert_exporter": "python",
   "pygments_lexer": "ipython3",
   "version": "3.10.13"
  }
 },
 "nbformat": 4,
 "nbformat_minor": 5
}
