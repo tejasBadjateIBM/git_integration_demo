{
 "cells": [
  {
   "cell_type": "code",
   "execution_count": null,
   "id": "c10d6912-6ad0-4950-9506-95da4b9d5248",
   "metadata": {
    "id": "16d81b15-51ed-437a-9c73-5ad68999d7cb",
    "tags": []
   },
   "outputs": [],
   "source": []
  }
 ],
 "metadata": {
  "kernelspec": {
   "display_name": "Python 3.10",
   "language": "python",
   "name": "python3"
  },
  "language_info": {
   "codemirror_mode": {
    "name": "ipython",
    "version": 3
   },
   "file_extension": ".py",
   "mimetype": "text/x-python",
   "name": "python",
   "nbconvert_exporter": "python",
   "pygments_lexer": "ipython3",
   "version": "3.10.13"
  }
 },
 "nbformat": 4,
 "nbformat_minor": 5
}
