{
 "cells": [
  {
   "cell_type": "code",
   "execution_count": null,
   "id": "a385ddaf-0641-4d73-a0fd-a4cee53d5196",
   "metadata": {
    "id": "c2c80795-5076-478f-934c-ff1553ad1974",
    "tags": []
   },
   "outputs": [],
   "source": []
  }
 ],
 "metadata": {
  "kernelspec": {
   "display_name": "Python 3.10",
   "language": "python",
   "name": "python3"
  },
  "language_info": {
   "codemirror_mode": {
    "name": "ipython",
    "version": 3
   },
   "file_extension": ".py",
   "mimetype": "text/x-python",
   "name": "python",
   "nbconvert_exporter": "python",
   "pygments_lexer": "ipython3",
   "version": "3.10.13"
  }
 },
 "nbformat": 4,
 "nbformat_minor": 5
}
