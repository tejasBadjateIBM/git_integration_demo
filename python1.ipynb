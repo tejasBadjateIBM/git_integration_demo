{
 "cells": [
  {
   "cell_type": "code",
   "execution_count": null,
   "id": "74ee3904-3262-4676-8c37-b1d86e1464d3",
   "metadata": {
    "id": "65e56b68-21dc-445b-94c6-029e9f4e9f05",
    "tags": []
   },
   "outputs": [],
   "source": []
  }
 ],
 "metadata": {
  "kernelspec": {
   "display_name": "Python 3.10",
   "language": "python",
   "name": "python3"
  },
  "language_info": {
   "codemirror_mode": {
    "name": "ipython",
    "version": 3
   },
   "file_extension": ".py",
   "mimetype": "text/x-python",
   "name": "python",
   "nbconvert_exporter": "python",
   "pygments_lexer": "ipython3",
   "version": "3.10.13"
  }
 },
 "nbformat": 4,
 "nbformat_minor": 5
}
