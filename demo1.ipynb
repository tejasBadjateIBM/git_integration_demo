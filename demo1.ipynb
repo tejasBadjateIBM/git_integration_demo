{
 "cells": [
  {
   "cell_type": "code",
   "execution_count": null,
   "id": "b0f8fa5d-6e9a-4b84-a366-c72602aef8e1",
   "metadata": {
    "id": "4916d37a-24d5-4338-96a7-e465550aba8e",
    "tags": []
   },
   "outputs": [],
   "source": [
    "print(\"This is a python demo !!!!\")"
   ]
  }
 ],
 "metadata": {
  "kernelspec": {
   "display_name": "Python 3.10",
   "language": "python",
   "name": "python3"
  },
  "language_info": {
   "codemirror_mode": {
    "name": "ipython",
    "version": 3
   },
   "file_extension": ".py",
   "mimetype": "text/x-python",
   "name": "python",
   "nbconvert_exporter": "python",
   "pygments_lexer": "ipython3",
   "version": "3.10.13"
  }
 },
 "nbformat": 4,
 "nbformat_minor": 5
}
