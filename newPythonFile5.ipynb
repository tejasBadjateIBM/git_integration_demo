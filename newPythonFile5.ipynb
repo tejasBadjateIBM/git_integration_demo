{
 "cells": [
  {
   "cell_type": "code",
   "execution_count": null,
   "id": "fcd2b612-a36d-454f-acb9-189a498c27a8",
   "metadata": {
    "id": "ca958ffa-6235-4552-8796-11bff316dad0",
    "tags": []
   },
   "outputs": [],
   "source": []
  }
 ],
 "metadata": {
  "kernelspec": {
   "display_name": "Python 3.10",
   "language": "python",
   "name": "python3"
  },
  "language_info": {
   "codemirror_mode": {
    "name": "ipython",
    "version": 3
   },
   "file_extension": ".py",
   "mimetype": "text/x-python",
   "name": "python",
   "nbconvert_exporter": "python",
   "pygments_lexer": "ipython3",
   "version": "3.10.13"
  }
 },
 "nbformat": 4,
 "nbformat_minor": 5
}
