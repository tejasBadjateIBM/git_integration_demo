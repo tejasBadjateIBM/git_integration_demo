{
 "cells": [
  {
   "cell_type": "code",
   "execution_count": null,
   "id": "5f7d9e28-fbc2-4cb4-b1ba-d3988ff53599",
   "metadata": {
    "id": "eef02b2b-0379-42c7-a693-591d485a440a",
    "tags": []
   },
   "outputs": [],
   "source": []
  }
 ],
 "metadata": {
  "kernelspec": {
   "display_name": "Python 3.10",
   "language": "python",
   "name": "python3"
  },
  "language_info": {
   "codemirror_mode": {
    "name": "ipython",
    "version": 3
   },
   "file_extension": ".py",
   "mimetype": "text/x-python",
   "name": "python",
   "nbconvert_exporter": "python",
   "pygments_lexer": "ipython3",
   "version": "3.10.13"
  }
 },
 "nbformat": 4,
 "nbformat_minor": 5
}
